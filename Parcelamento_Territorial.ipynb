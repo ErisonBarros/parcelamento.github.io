{
  "nbformat": 4,
  "nbformat_minor": 0,
  "metadata": {
    "colab": {
      "name": "Cópia de Parcelamento Territorial.ipynb",
      "provenance": [],
      "collapsed_sections": [],
      "include_colab_link": true
    },
    "kernelspec": {
      "name": "python3",
      "display_name": "Python 3"
    }
  },
  "cells": [
    {
      "cell_type": "markdown",
      "metadata": {
        "id": "view-in-github",
        "colab_type": "text"
      },
      "source": [
        "<a href=\"https://colab.research.google.com/github/ErisonBarros/parcelamentoterritorial.github.io/blob/master/Parcelamento_Territorial.ipynb\" target=\"_parent\"><img src=\"https://colab.research.google.com/assets/colab-badge.svg\" alt=\"Open In Colab\"/></a>"
      ]
    },
    {
      "cell_type": "markdown",
      "metadata": {
        "id": "F_Fvgv6GfIBH"
      },
      "source": [
        "#CA481 -Parcelamento Territorial"
      ]
    },
    {
      "cell_type": "markdown",
      "metadata": {
        "id": "CNOyHNNViZy4"
      },
      "source": [
        "## Ementa"
      ]
    },
    {
      "cell_type": "markdown",
      "metadata": {
        "id": "meHgWcN5frCH"
      },
      "source": [
        "\n",
        "Ementa da Disciplina\n",
        "1. Técnicas de Parcelamento Territorial Rural;\t\t\t\t\t\t\t\t\t\n",
        "2. Técnicas de Parcelamento do Solo Urbano.\t\t\t\t\t\t\t\t\t\n",
        "3. Levantamentos topográficos aplicados à divisão e à demarcação de terras. \t\t\t\t\t\t\t\t\t\n",
        "4. Processos de divisão de terras. \t\t\t\t\t\t\t\t\t\n",
        "5. Processos de demarcação de divisas. Peritagem.;\t\t\t\t\t\t\t\t\t\n",
        "6. Loteamento. \t\t\t\t\t\t\t\t\t\n",
        "7. Projeto geométrico de loteamento. \t\t\t\t\t\t\t\t\t\n",
        "8. Implantação de um loteamento. \t\t\t\t\t\t\t\t\t\n",
        "\n",
        "\n"
      ]
    },
    {
      "cell_type": "markdown",
      "metadata": {
        "id": "B1V1Wh_6f2dY"
      },
      "source": [
        "## Objetivos"
      ]
    },
    {
      "cell_type": "markdown",
      "metadata": {
        "id": "dNcwQCFXiwf4"
      },
      "source": [
        "- Capacitar os alunos nos procedimentos legais e técnicos referentes a divisão e demarcação de terras;\t\t\t\t\t\t\t\t\t\n",
        "- Capacitar os alunos para a elaboração de projetos de parcelamentos urbanos (desmembramentos e loteamentos) e rurais, de acordo com a legislação e normas técnicas vigentes;\t\t\t\t\t\t\t\t\t\n",
        "- Aplicar os métodos de levantamento topográfico e geodésico na divisão de terras e locação de loteamentos.\t\t\t\t\t\t\t\t\t\n",
        "- Discutir casos de estudo de perícias judiciais. \t\t\t\t\t\t\t\t\t"
      ]
    },
    {
      "cell_type": "markdown",
      "metadata": {
        "id": "Rn5AlcqQi6Ae"
      },
      "source": [
        "## METODOLOGIA"
      ]
    },
    {
      "cell_type": "markdown",
      "metadata": {
        "id": "sa-L_MdqjFZu"
      },
      "source": [
        "As atividades síncronas e assíncronas, desenvolvidas em ambiente virtual, remotamente. As síncronas, que totalizarão 33,3%, serão 12 atividades  (2 horas/ aulas por semana) serão feitas remotamente, através de encontros virtuais previamente agendados, disponibilizados no siga, que serão feitos usando a ferramenta Google Meet. Nessas atividades síncronas o professor  apresentará a parte teórica e esclarecerá sobre estudos e os trabalhos . Esses encontros síncronos também poderão ser utilizados para apresentação dos trabalhos dos estudantes utilizando o Meet. Nas atividades assíncronas, que totalizarão 66,6%, serão  (4 horas/aulas por semana) os alunos deverão complementar estudos e resolver os trabalhos propostos nas aulas  presenciais e previstos nos plano de trabalho. Essas atividades serão passadas através de sala de aula virtual, utilizando a ferramenta Google Classroom. \n",
        "Serão presenciados de forma online:\n",
        "- aulas expositivas da parte teórica  e legal;\n",
        "- Apresentação das técnicas de levantamentos e locações;\n",
        "- Apresentação das práticas de elaboração de planta utilizando o QGis, Topocad (adquirido pelo Laboratório).\n"
      ]
    },
    {
      "cell_type": "markdown",
      "metadata": {
        "id": "vmUts7HDjJ8t"
      },
      "source": [
        "## FORMAS DE AVALIAÇÃO"
      ]
    },
    {
      "cell_type": "markdown",
      "metadata": {
        "id": "ubsluzGxjSEM"
      },
      "source": [
        "1º E.E.:  \n",
        "a.        Atividades no Google Classroom a partir de Google Formulário sobre os Itens 1,3,4 e 5 da Ementa  (Peso 4)\n",
        "b.        Seminário em Grupo sobre Proposta de Parcelamento de uma propriedade Rural para fins de assentamento da reforma agrária baseado na legislação e no conteúdo Ministrado , analise individual no aluno na apresentação ( Peso 6);\n",
        "2ºE.E.: \n",
        "a.        Atividades no Google Classroom a partir de Google Formulário sobre os Itens 2,6,7 e 8 da Ementa  (Peso 4)\n",
        "b.        Seminário em Grupo sobre Proposta de Parcelamento de uma Gleba Urbana para fins de aprovação de um projeto de Loteamento  baseado na legislação e no conteúdo ministrado , analise individual no aluno na apresentação ( Peso 6);\n",
        "\n",
        "1º E.E. =  a * (0,4) + b*(0,6)\n",
        "\n",
        "2ºE.E.=  a * (0,4) + b*(0,6)\n",
        "\n",
        "Média= ( 1º E.E. + 2ºE.E.) /2\n",
        "1º E.E.:  \n",
        "a.        Atividades no Google Classroom a partir de Google Formulário sobre os Itens 1,3,4 e 5 da Ementa  (Peso 4)\n",
        "b.        Seminário em Grupo sobre Proposta de Parcelamento de uma propriedade Rural para fins de assentamento da reforma agrária baseado na legislação e no conteúdo Ministrado , analise individual no aluno na apresentação ( Peso 6);\n",
        "2ºE.E.: \n",
        "a.        Atividades no Google Classroom a partir de Google Formulário sobre os Itens 2,6,7 e 8 da Ementa  (Peso 4)\n",
        "b.        Seminário em Grupo sobre Proposta de Parcelamento de uma Gleba Urbana para fins de aprovação de um projeto de Loteamento  baseado na legislação e no conteúdo ministrado , analise individual no aluno na apresentação ( Peso 6);\n",
        "\n",
        "1º E.E. =  a * (0,4) + b*(0,6)\n",
        "\n",
        "2ºE.E.=  a * (0,4) + b*(0,6)\n",
        "\n",
        "Média= ( 1º E.E. + 2ºE.E.) /2\n"
      ]
    },
    {
      "cell_type": "markdown",
      "metadata": {
        "id": "kT6JUEvsjZ3c"
      },
      "source": [
        "# UNIDADES PROGRAMÁTICAS"
      ]
    },
    {
      "cell_type": "markdown",
      "metadata": {
        "id": "QLNihuDqjvde"
      },
      "source": [
        "GRIPP JUNIOR, J. Loteamento: Projeto Geométrico, Regularização e Execução. Viçosa: UFV, 1999. \t\t\t\t\t\t\t\t\t\n",
        "MASCARÓ, J. L. Manual de Loteamentos e Urbanização. Porto Alegre: Sagra Luzzatto, 1977. 238p. \t\t\t\t\t\t\t\t\t\n",
        "MOREIRA, A. L. Princípios de Engenharia de Avaliação. São Paulo: Pini, 1988. \t\t\t\t\t\t\t\t\t"
      ]
    },
    {
      "cell_type": "markdown",
      "metadata": {
        "id": "jFaqTThVjyne"
      },
      "source": [
        "## BIBLIOGRAFIA COMPLEMENTAR"
      ]
    },
    {
      "cell_type": "markdown",
      "metadata": {
        "id": "IPiZdauTj4UW"
      },
      "source": [
        "LOPES, M. M. S. Curso de Direito Civil. Rio de Janeiro: Freitas Bastos, 1960. \t\t\t\t\t\t\t\t\t\n",
        "MAIA NETO, F. Roteiro Prático de Avaliações e Perícias Judiciais. Belo Horizonte: Del Rey, 1999. \t\t\t\t\t\t\t\t\t\n",
        "MELO, D. C. Administração Urbana: Sistemas e Diagnósticos. Rio de Janeiro: IBAN, 1978. \t\t\t\t\t\t\t\t\t\n",
        "MESQUITA, A. P. Parcelamento do Solo Urbano e suas Diversas Formas. Curitiba: IESDE, 2008. 200p. \t\t\t\t\t\t\t\t\t\n",
        "MOURA, A.C.M. Geoprocessamento na Gestão e Planejamento Urbano. Belo Horizonte, 2003.294p. ISBN 859036691X BRASIL. \t\t\t\t\t\t\t\t\t\n",
        "CARVALHO, C.S. Regularização Fundiária Urbana no Brasil. Brasília: Ministério das Cidades, 2009. 203p. ISBN 9788560133994. \t\t\t\t\t\t\t\t\t"
      ]
    },
    {
      "cell_type": "markdown",
      "metadata": {
        "id": "ejezVvcWkaxt"
      },
      "source": [
        "## Cronograma da Disciplina"
      ]
    },
    {
      "cell_type": "markdown",
      "metadata": {
        "id": "8Az6dH8elpaY"
      },
      "source": [
        "[Cronograma da Disciplina](https://docs.google.com/spreadsheets/d/12PHs62aWj7YfKRkDIOQveTmwkBoxyizb4S9RtduzYbQ/edit#gid=1647738855&range=A50:J144)"
      ]
    },
    {
      "cell_type": "markdown",
      "metadata": {
        "id": "wAFppaDyl28s"
      },
      "source": [
        ""
      ]
    },
    {
      "cell_type": "markdown",
      "metadata": {
        "id": "-8qsTEG2l76g"
      },
      "source": [
        ""
      ]
    }
  ]
}